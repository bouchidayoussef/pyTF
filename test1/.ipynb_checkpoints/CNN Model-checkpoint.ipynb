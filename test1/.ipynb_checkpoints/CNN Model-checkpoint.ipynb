{
 "cells": [
  {
   "cell_type": "markdown",
   "metadata": {},
   "source": [
    "# CNN model For fashion Mnist Dataset Classication"
   ]
  },
  {
   "cell_type": "code",
   "execution_count": 1,
   "metadata": {},
   "outputs": [],
   "source": [
    "import tensorflow as tf\n",
    "import streamlit as st\n",
    "import numpy as np\n",
    "import matplotlib.pyplot as plt\n",
    "import cv2\n",
    "from PIL import Image\n",
    "from tensorflow import keras"
   ]
  },
  {
   "cell_type": "code",
   "execution_count": 2,
   "metadata": {},
   "outputs": [],
   "source": [
    "\n",
    "fas_data=keras.datasets.fashion_mnist\n",
    "(train_images,train_labels),(test_images,test_labels)=fas_data.load_data()\n",
    "\n",
    "\n",
    "############################## Class naming  #####################\n",
    "class_names=['Tshirt/TOP','Trouser','Pullover','Dress','Coat',\n",
    "             'Sandel','Shirt','Sneaker','Bag','Ankle boot']"
   ]
  },
  {
   "cell_type": "code",
   "execution_count": 3,
   "metadata": {},
   "outputs": [
    {
     "name": "stdout",
     "output_type": "stream",
     "text": [
      "(10000, 28, 28)\n",
      "(60000, 28, 28, 1)\n",
      "(60000, 10)\n"
     ]
    }
   ],
   "source": [
    "# Data preprocessing\n",
    "# input [0-255] require scaling in [0-1]\n",
    "train_image=train_images/255.0\n",
    "test_image=test_images/255.0\n",
    "# target\n",
    "train_l=keras.utils.to_categorical(train_labels,10) # 10 class\n",
    "test_l=keras.utils.to_categorical(test_labels,10)\n",
    "train_images=np.expand_dims(train_image,3)\n",
    "test_images=np.expand_dims(test_image,3)\n",
    "\n",
    "print(test_image.shape)\n",
    "print(train_images.shape)\n",
    "print(train_l.shape)"
   ]
  },
  {
   "cell_type": "code",
   "execution_count": null,
   "metadata": {},
   "outputs": [
    {
     "name": "stdout",
     "output_type": "stream",
     "text": [
      "Epoch 1/10\n",
      "1500/1500 [==============================] - ETA: 0s - loss: 0.5368 - accuracy: 0.8042"
     ]
    }
   ],
   "source": [
    "cnn_model=tf.keras.Sequential()\n",
    "cnn_model.add(tf.keras.layers.Conv2D(32,(3,3),activation='relu',\n",
    "                                 input_shape=(28,28,1))) \n",
    "cnn_model.add(tf.keras.layers.Dropout(0.4))\n",
    "cnn_model.add(tf.keras.layers.Dense(100))\n",
    "cnn_model.add(tf.keras.layers.MaxPooling2D((2,2)))\n",
    "cnn_model.add(tf.keras.layers.BatchNormalization())\n",
    "cnn_model.add(tf.keras.layers.Conv2D(64,5))\n",
    "cnn_model.add(tf.keras.layers.Dense(50))\n",
    "cnn_model.add(tf.keras.layers.AveragePooling2D(2,2))\n",
    "cnn_model.add(tf.keras.layers.Dropout(0.4))\n",
    "cnn_model.add(tf.keras.layers.Conv2D(128,2,activation='relu'))\n",
    "cnn_model.add(tf.keras.layers.Flatten())\n",
    "cnn_model.add(tf.keras.layers.Dense(10,activation='softmax')) \n",
    "cnn_model.compile(optimizer='adam', loss='categorical_crossentropy',metrics=['accuracy'])\n",
    "hist=cnn_model.fit(train_images,train_l,epochs=10,verbose=1,validation_split=0.2)\n",
    "cnn_model.summary()\n"
   ]
  },
  {
   "cell_type": "code",
   "execution_count": 9,
   "metadata": {},
   "outputs": [
    {
     "name": "stdout",
     "output_type": "stream",
     "text": [
      "10000/10000 [==============================] - 6s 648us/sample - loss: 1.2884 - accuracy: 0.7068\n",
      "0.7068\n"
     ]
    }
   ],
   "source": [
    "test_loss1,test_acc1=cnn_model.evaluate(test_images,test_l)\n",
    "print(test_acc1)"
   ]
  },
  {
   "cell_type": "code",
   "execution_count": 10,
   "metadata": {},
   "outputs": [],
   "source": [
    "import pickle\n",
    "with open('cnntrainHistory', 'wb') as file_pi:\n",
    "        pickle.dump(hist.history, file_pi)"
   ]
  },
  {
   "cell_type": "code",
   "execution_count": null,
   "metadata": {},
   "outputs": [],
   "source": [
    "def history_graph():\n",
    "    plt.figure(figsize=(10,10))\n",
    "    train_acc=hist.history['accuracy']\n",
    "    val_acc=hist.history['val_accuracy']\n",
    "    train_loss=hist.history['loss']\n",
    "    val_loss=hist.history['val_loss']\n",
    "    plt.subplot(2,2,1)\n",
    "    plt.plot(train_acc,label='train acc')\n",
    "    plt.plot(val_acc,label='val acc')\n",
    "    plt.legend()\n",
    "    plt.title('acc')\n",
    "    plt.subplot(2,2,3)\n",
    "    plt.plot(train_loss,label='train loss')\n",
    "    plt.plot(val_loss,label='val loss')\n",
    "    plt.legend()\n",
    "    plt.title('loss')\n",
    "history_graph()"
   ]
  }
 ],
 "metadata": {
  "kernelspec": {
   "display_name": "Python 3 (ipykernel)",
   "language": "python",
   "name": "python3"
  },
  "language_info": {
   "codemirror_mode": {
    "name": "ipython",
    "version": 3
   },
   "file_extension": ".py",
   "mimetype": "text/x-python",
   "name": "python",
   "nbconvert_exporter": "python",
   "pygments_lexer": "ipython3",
   "version": "3.8.12"
  }
 },
 "nbformat": 4,
 "nbformat_minor": 4
}
